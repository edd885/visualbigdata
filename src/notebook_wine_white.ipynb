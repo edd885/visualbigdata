{
 "cells": [
  {
   "cell_type": "markdown",
   "metadata": {
    "application/vnd.databricks.v1+cell": {
     "cellMetadata": {},
     "inputWidgets": {},
     "nuid": "b2c676ee-4319-4afb-8322-96a6a78c7ee9",
     "showTitle": false,
     "tableResultSettingsMap": {},
     "title": ""
    }
   },
   "source": [
    "# Universidad de Guadalajara\n",
    "## CUCEA\n",
    "### Maestría en ciencia de los datos\n",
    "#### Visualización de grandes bases de datos IH597\n",
    "PROFESOR: Ramón Osvaldo Guardado Medina\n",
    "\n",
    "ALUMNO: Eduardo Carlos Fletes Aréchiga\n",
    "\n",
    "**Challenge intermedio**\n",
    "\n",
    "Modelado con Spark ML: Wine Quality (white color)"
   ]
  },
  {
   "cell_type": "code",
   "execution_count": 0,
   "metadata": {
    "application/vnd.databricks.v1+cell": {
     "cellMetadata": {
      "byteLimit": 2048000,
      "rowLimit": 10000
     },
     "inputWidgets": {},
     "nuid": "bf9993e7-c491-4010-930b-2bd1a23e2e6f",
     "showTitle": false,
     "tableResultSettingsMap": {},
     "title": ""
    }
   },
   "outputs": [
    {
     "output_type": "stream",
     "name": "stdout",
     "output_type": "stream",
     "text": [
      "Out[1]: [Table(name='winequality_white_3_csv', catalog='spark_catalog', namespace=['default'], description=None, tableType='EXTERNAL', isTemporary=False)]"
     ]
    }
   ],
   "source": [
    "# Previo a todo, crear la tabla para poder trabajar con el archivo descargado\n",
    "# Para ver todas las bases de datos\n",
    "spark.catalog.listDatabases()\n",
    "\n",
    "# Para ver todas las tablas en la base de datos actual\n",
    "spark.catalog.listTables()"
   ]
  },
  {
   "cell_type": "code",
   "execution_count": 0,
   "metadata": {
    "application/vnd.databricks.v1+cell": {
     "cellMetadata": {
      "byteLimit": 2048000,
      "rowLimit": 10000
     },
     "inputWidgets": {},
     "nuid": "9bd35b72-f5de-4196-b05e-ec129390657b",
     "showTitle": false,
     "tableResultSettingsMap": {},
     "title": ""
    }
   },
   "outputs": [
    {
     "output_type": "stream",
     "name": "stdout",
     "output_type": "stream",
     "text": [
      "Out[2]: Row(fixed acidity=7.0, volatile acidity=0.27, citric acid=0.36, residual sugar=20.7, chlorides=0.045, free sulfur dioxide=45.0, total sulfur dioxide=170.0, density=1.001, pH=3.0, sulphates=0.45, alcohol=8.8, quality=6)"
     ]
    }
   ],
   "source": [
    "df = spark.table(\"winequality_white_3_csv\")\n",
    "df.head()"
   ]
  },
  {
   "cell_type": "code",
   "execution_count": 0,
   "metadata": {
    "application/vnd.databricks.v1+cell": {
     "cellMetadata": {
      "byteLimit": 2048000,
      "rowLimit": 10000
     },
     "inputWidgets": {},
     "nuid": "dbc52f81-2520-49ad-be2c-3c01444f28d5",
     "showTitle": false,
     "tableResultSettingsMap": {},
     "title": ""
    }
   },
   "outputs": [
    {
     "output_type": "stream",
     "name": "stdout",
     "output_type": "stream",
     "text": [
      "root\n |-- fixed acidity: double (nullable = true)\n |-- volatile acidity: double (nullable = true)\n |-- citric acid: double (nullable = true)\n |-- residual sugar: double (nullable = true)\n |-- chlorides: double (nullable = true)\n |-- free sulfur dioxide: double (nullable = true)\n |-- total sulfur dioxide: double (nullable = true)\n |-- density: double (nullable = true)\n |-- pH: double (nullable = true)\n |-- sulphates: double (nullable = true)\n |-- alcohol: double (nullable = true)\n |-- quality: integer (nullable = true)\n\n+-------------+----------------+-----------+--------------+---------+-------------------+--------------------+-------+----+---------+-------+-------+\n|fixed acidity|volatile acidity|citric acid|residual sugar|chlorides|free sulfur dioxide|total sulfur dioxide|density|  pH|sulphates|alcohol|quality|\n+-------------+----------------+-----------+--------------+---------+-------------------+--------------------+-------+----+---------+-------+-------+\n|          7.0|            0.27|       0.36|          20.7|    0.045|               45.0|               170.0|  1.001| 3.0|     0.45|    8.8|      6|\n|          6.3|             0.3|       0.34|           1.6|    0.049|               14.0|               132.0|  0.994| 3.3|     0.49|    9.5|      6|\n|          8.1|            0.28|        0.4|           6.9|     0.05|               30.0|                97.0| 0.9951|3.26|     0.44|   10.1|      6|\n|          7.2|            0.23|       0.32|           8.5|    0.058|               47.0|               186.0| 0.9956|3.19|      0.4|    9.9|      6|\n|          7.2|            0.23|       0.32|           8.5|    0.058|               47.0|               186.0| 0.9956|3.19|      0.4|    9.9|      6|\n+-------------+----------------+-----------+--------------+---------+-------------------+--------------------+-------+----+---------+-------+-------+\nonly showing top 5 rows\n\nExactitud del modelo: 0.45\n"
     ]
    }
   ],
   "source": [
    "# Importar librerías necesarias\n",
    "from pyspark.sql import SparkSession\n",
    "from pyspark.ml.feature import VectorAssembler, StandardScaler\n",
    "from pyspark.ml.classification import LogisticRegression\n",
    "from pyspark.ml.evaluation import MulticlassClassificationEvaluator\n",
    "from pyspark.ml import Pipeline\n",
    "\n",
    "# Crear una sesión de Spark\n",
    "spark = SparkSession.builder.appName(\"WineQualityPrediction\").getOrCreate()\n",
    "\n",
    "# Cargar el dataset\n",
    "data = df\n",
    "\n",
    "# Mostrar esquema y primeros registros\n",
    "data.printSchema()\n",
    "data.show(5)\n",
    "\n",
    "# Definir columnas de características\n",
    "feature_columns = [col for col in data.columns if col != 'quality']\n",
    "\n",
    "# Ensamblador para convertir características a un vector\n",
    "assembler = VectorAssembler(inputCols=feature_columns, outputCol=\"features_raw\")\n",
    "\n",
    "# Escalar las características\n",
    "scaler = StandardScaler(inputCol=\"features_raw\", outputCol=\"features\", withStd=True, withMean=False)\n",
    "\n",
    "# Crear el modelo de regresión logística\n",
    "lr = LogisticRegression(featuresCol=\"features\", labelCol=\"quality\", maxIter=10, regParam=0.3, elasticNetParam=0.8)\n",
    "\n",
    "# Construir el pipeline\n",
    "pipeline = Pipeline(stages=[assembler, scaler, lr])\n",
    "\n",
    "# Dividir el conjunto de datos en entrenamiento y prueba\n",
    "train_data, test_data = data.randomSplit([0.8, 0.2], seed=42)\n",
    "\n",
    "# Entrenar el modelo\n",
    "model = pipeline.fit(train_data)\n",
    "\n",
    "# Realizar predicciones\n",
    "predictions = model.transform(test_data)\n",
    "\n",
    "# Evaluar el modelo\n",
    "evaluator = MulticlassClassificationEvaluator(labelCol=\"quality\", predictionCol=\"prediction\", metricName=\"accuracy\")\n",
    "accuracy = evaluator.evaluate(predictions)\n",
    "\n",
    "# Mostrar resultados\n",
    "print(f\"Exactitud del modelo: {accuracy:.2f}\")\n"
   ]
  },
  {
   "cell_type": "markdown",
   "metadata": {
    "application/vnd.databricks.v1+cell": {
     "cellMetadata": {},
     "inputWidgets": {},
     "nuid": "4852688c-94d0-4771-ad2e-c2823c69116e",
     "showTitle": false,
     "tableResultSettingsMap": {},
     "title": ""
    }
   },
   "source": [
    "El modelo alcanzó una exactitud de 0.45, lo que indica que el rendimiento es moderado. Así que hay que tomar medidas..\n",
    "\n",
    "**Evaluar los Datos**\n",
    "Distribución de *quality*: Verifica si la columna quality está balanceada. Si hay clases desbalanceadas (por ejemplo, una mayoría de vinos con calidad 6), el modelo podría estar sesgado. \n",
    "```\n",
    "data.groupBy(\"quality\").count().show()\n",
    "```\n",
    "Usar una tabla de frecuencias\n",
    "\n",
    "Si las clases están desbalanceadas, considerar técnicas como:\n",
    "- Submuestreo de las clases mayoritarias.\n",
    "- Sobremuestreo de las clases minoritarias.\n",
    "- Ajustar el peso de las clases en el modelo (weightCol en LogisticRegression).\n",
    "\n",
    "**Explorar métricas adicionales**\n",
    "- La exactitud no siempre es la mejor métrica, especialmente con datos desbalanceados. Usa métricas como:\n",
    "- Precision, Recall y F1-Score:\n",
    "```\n",
    "evaluator = MulticlassClassificationEvaluator(labelCol=\"quality\", predictionCol=\"prediction\", metricName=\"f1\")\n",
    "f1_score = evaluator.evaluate(predictions)\n",
    "print(f\"F1-Score: {f1_score:.2f}\")\n",
    "```\n",
    "- Matriz de confusión: Analiza qué clases se predicen correctamente o dónde hay más errores.\n",
    " \n",
    "**Modificación y \"tuneo\" de los hiperparámetros**\n",
    "- Optimizar los hiperparámetros con Grid Search\n",
    "- Esto permitirá encontrar los mejores valores para *regParam*, *elasticNetParam*, y *maxIter*.\n",
    "\n",
    "**Transformaciones de Características**\n",
    "- Algunas características pueden no ser linealmente relacionadas con quality. Probar con selección de características\n",
    "- Usar ChiSqSelector o PCA para reducir la dimensionalidad\n",
    "\n",
    "** Opción de cambiar el Modelo**\n",
    "- La regresión logística puede ser limitada si las relaciones entre características y etiquetas no son lineales. Considerar otros modelos como:\n",
    "- Random Forest (RandomForestClassifier).\n",
    "- Comparar este modelo con la regresión logística en términos de rendimiento.\n",
    "\n",
    "---\n",
    "\n",
    "Para ajustar el peso de las clases en la regresión logística, se puede usar el parámetro weightCol en el modelo de Spark ML. Esto permite asignar diferentes pesos a cada clase, para contrarrestar el desbalanceo en los datos. \n",
    "\n",
    "El proceso es:\n",
    "\n",
    "**Calcular el Peso de Cada Clase**\n",
    "- Calcula la proporción inversa de las frecuencias de las clases para determinar los pesos.\n",
    "- Estas proporciones se usarán para penalizar más a las clases mayoritarias y darle más importancia a las minoritarias.\n",
    "\n",
    "**Agregar la Columna de Pesos al Dataset:**\n",
    "- Usa una columna adicional llamada class_weights que asigna el peso a cada fila según su clase.\n",
    "\n",
    "**Entrenar el Modelo con weightCol:**\n",
    "- Usar esta columna en el modelo de regresión logística.\n",
    "\n",
    "---\n",
    "\n",
    "Lo que hace la siguiente celda en código es\n",
    "\n",
    "**Cálculo de Pesos**\n",
    "- Se calcula el peso de cada clase usando la fórmula:\n",
    "Peso Clase =\n",
    "Total de Filas/Frecuencia de la Clase​\n",
    " \n",
    "Esto asegura que las clases minoritarias tengan un mayor peso.\n",
    "\n",
    "**Nueva Columna *class_weights*:**\n",
    "- Se añade una columna dinámica con los pesos correspondientes para cada fila.\n",
    "\n",
    "**Modelo con Pesos:**\n",
    "- Se pasa la columna class_weights al modelo usando el parámetro weightCol.\n",
    "\n",
    "**Evaluación:**\n",
    "- Evalúa si la exactitud mejora después de ajustar los pesos.\n",
    "\n",
    "**Resultado Esperado:**\n",
    "- Mejor equilibrio entre las clases, con mayor exactitud o mejor F1-Score para las clases minoritarias."
   ]
  },
  {
   "cell_type": "code",
   "execution_count": 0,
   "metadata": {
    "application/vnd.databricks.v1+cell": {
     "cellMetadata": {
      "byteLimit": 2048000,
      "rowLimit": 10000
     },
     "inputWidgets": {},
     "nuid": "210e03a2-3a3d-4e11-8b80-3ba6554c940c",
     "showTitle": false,
     "tableResultSettingsMap": {},
     "title": ""
    }
   },
   "outputs": [
    {
     "output_type": "stream",
     "name": "stdout",
     "output_type": "stream",
     "text": [
      "root\n |-- fixed acidity: double (nullable = true)\n |-- volatile acidity: double (nullable = true)\n |-- citric acid: double (nullable = true)\n |-- residual sugar: double (nullable = true)\n |-- chlorides: double (nullable = true)\n |-- free sulfur dioxide: double (nullable = true)\n |-- total sulfur dioxide: double (nullable = true)\n |-- density: double (nullable = true)\n |-- pH: double (nullable = true)\n |-- sulphates: double (nullable = true)\n |-- alcohol: double (nullable = true)\n |-- quality: integer (nullable = true)\n\n+-------------+----------------+-----------+--------------+---------+-------------------+--------------------+-------+----+---------+-------+-------+\n|fixed acidity|volatile acidity|citric acid|residual sugar|chlorides|free sulfur dioxide|total sulfur dioxide|density|  pH|sulphates|alcohol|quality|\n+-------------+----------------+-----------+--------------+---------+-------------------+--------------------+-------+----+---------+-------+-------+\n|          7.0|            0.27|       0.36|          20.7|    0.045|               45.0|               170.0|  1.001| 3.0|     0.45|    8.8|      6|\n|          6.3|             0.3|       0.34|           1.6|    0.049|               14.0|               132.0|  0.994| 3.3|     0.49|    9.5|      6|\n|          8.1|            0.28|        0.4|           6.9|     0.05|               30.0|                97.0| 0.9951|3.26|     0.44|   10.1|      6|\n|          7.2|            0.23|       0.32|           8.5|    0.058|               47.0|               186.0| 0.9956|3.19|      0.4|    9.9|      6|\n|          7.2|            0.23|       0.32|           8.5|    0.058|               47.0|               186.0| 0.9956|3.19|      0.4|    9.9|      6|\n+-------------+----------------+-----------+--------------+---------+-------------------+--------------------+-------+----+---------+-------+-------+\nonly showing top 5 rows\n\nPesos calculados por clase: {6: 2.2283894449499546, 3: 244.9, 5: 3.3617021276595747, 9: 979.6, 4: 30.049079754601227, 8: 27.98857142857143, 7: 5.5659090909090905}\n+-------------+----------------+-----------+--------------+---------+-------------------+--------------------+-------+---+---------+-------+-------+-------------+\n|fixed acidity|volatile acidity|citric acid|residual sugar|chlorides|free sulfur dioxide|total sulfur dioxide|density| pH|sulphates|alcohol|quality|class_weights|\n+-------------+----------------+-----------+--------------+---------+-------------------+--------------------+-------+---+---------+-------+-------+-------------+\n+-------------+----------------+-----------+--------------+---------+-------------------+--------------------+-------+---+---------+-------+-------+-------------+\n\nExactitud del modelo con pesos ajustados: 0.03\nF1-Score del modelo con pesos ajustados: 0.00\n+-------+----------+------------------+--------------------+\n|quality|prediction|     class_weights|         probability|\n+-------+----------+------------------+--------------------+\n|      7|       8.0|5.5659090909090905|[3.74666304066580...|\n|      7|       8.0|5.5659090909090905|[3.74666304066580...|\n|      5|       8.0|3.3617021276595747|[3.74666304066580...|\n|      6|       8.0|2.2283894449499546|[3.74666304066580...|\n|      6|       8.0|2.2283894449499546|[3.74666304066580...|\n+-------+----------+------------------+--------------------+\nonly showing top 5 rows\n\n"
     ]
    }
   ],
   "source": [
    "# Importar librerías necesarias\n",
    "from pyspark.sql import SparkSession\n",
    "from pyspark.sql.functions import col, lit, when\n",
    "from pyspark.ml.feature import VectorAssembler, StandardScaler\n",
    "from pyspark.ml.classification import LogisticRegression\n",
    "from pyspark.ml.evaluation import MulticlassClassificationEvaluator\n",
    "from pyspark.ml import Pipeline\n",
    "\n",
    "# Crear una sesión de Spark\n",
    "spark = SparkSession.builder.appName(\"WineQualityPrediction\").getOrCreate()\n",
    "\n",
    "# Supongamos que el DataFrame 'data' ya está cargado\n",
    "# Mostrar esquema del DataFrame para verificar las columnas\n",
    "data.printSchema()\n",
    "\n",
    "# Mostrar los primeros registros para revisar los datos\n",
    "data.show(5)\n",
    "\n",
    "# Calcular las frecuencias de cada clase (quality)\n",
    "class_counts = data.groupBy(\"quality\").count().collect()\n",
    "total_count = data.count()\n",
    "\n",
    "# Calcular los pesos inversos para cada clase\n",
    "# Esto asignará un peso mayor a las clases con menos ocurrencias\n",
    "class_weights = {row['quality']: total_count / row['count'] for row in class_counts}\n",
    "\n",
    "# Mostrar los pesos calculados para referencia\n",
    "print(f\"Pesos calculados por clase: {class_weights}\")\n",
    "\n",
    "# Crear una columna con los pesos correspondientes a cada fila\n",
    "# Se asignan pesos según la clase y se asegura que no haya valores nulos con 'otherwise'\n",
    "weighted_data = data.withColumn(\n",
    "    \"class_weights\",\n",
    "    when(col(\"quality\") == 3, lit(class_weights.get(3, 1.0)))\n",
    "    .when(col(\"quality\") == 4, lit(class_weights.get(4, 1.0)))\n",
    "    .when(col(\"quality\") == 5, lit(class_weights.get(5, 1.0)))\n",
    "    .when(col(\"quality\") == 6, lit(class_weights.get(6, 1.0)))\n",
    "    .when(col(\"quality\") == 7, lit(class_weights.get(7, 1.0)))\n",
    "    .when(col(\"quality\") == 8, lit(class_weights.get(8, 1.0)))\n",
    "    .otherwise(lit(1.0))  # Asigna un peso predeterminado para filas fuera de rango\n",
    ")\n",
    "\n",
    "# Verificar que no existan valores nulos en la columna de pesos\n",
    "weighted_data.filter(col(\"class_weights\").isNull()).show()\n",
    "\n",
    "# Ensamblar las características en un único vector\n",
    "# Las columnas de entrada son todas menos 'quality'\n",
    "feature_columns = [col for col in data.columns if col != 'quality']\n",
    "assembler = VectorAssembler(inputCols=feature_columns, outputCol=\"features_raw\")\n",
    "\n",
    "# Escalar las características para que tengan varianza y media uniforme\n",
    "scaler = StandardScaler(inputCol=\"features_raw\", outputCol=\"features\", withStd=True, withMean=False)\n",
    "\n",
    "# Crear el modelo de regresión logística, utilizando la columna de pesos\n",
    "lr = LogisticRegression(featuresCol=\"features\", labelCol=\"quality\", weightCol=\"class_weights\", \n",
    "                        maxIter=10, regParam=0.3, elasticNetParam=0.8)\n",
    "\n",
    "# Construir un pipeline que contiene las transformaciones y el modelo\n",
    "pipeline = Pipeline(stages=[assembler, scaler, lr])\n",
    "\n",
    "# Dividir el conjunto de datos en entrenamiento (80%) y prueba (20%)\n",
    "train_data, test_data = weighted_data.randomSplit([0.8, 0.2], seed=42)\n",
    "\n",
    "# Entrenar el modelo utilizando el conjunto de datos de entrenamiento\n",
    "model = pipeline.fit(train_data)\n",
    "\n",
    "# Realizar predicciones utilizando el conjunto de prueba\n",
    "predictions = model.transform(test_data)\n",
    "\n",
    "# Evaluar el modelo usando la métrica de exactitud\n",
    "evaluator = MulticlassClassificationEvaluator(labelCol=\"quality\", predictionCol=\"prediction\", metricName=\"accuracy\")\n",
    "accuracy = evaluator.evaluate(predictions)\n",
    "\n",
    "# Mostrar resultados de exactitud del modelo\n",
    "print(f\"Exactitud del modelo con pesos ajustados: {accuracy:.2f}\")\n",
    "\n",
    "# Evaluar otras métricas (opcional): F1-Score\n",
    "f1_evaluator = MulticlassClassificationEvaluator(labelCol=\"quality\", predictionCol=\"prediction\", metricName=\"f1\")\n",
    "f1_score = f1_evaluator.evaluate(predictions)\n",
    "print(f\"F1-Score del modelo con pesos ajustados: {f1_score:.2f}\")\n",
    "\n",
    "# Mostrar algunas predicciones para inspeccionar resultados\n",
    "predictions.select(\"quality\", \"prediction\", \"class_weights\", \"probability\").show(5)\n"
   ]
  },
  {
   "cell_type": "markdown",
   "metadata": {
    "application/vnd.databricks.v1+cell": {
     "cellMetadata": {},
     "inputWidgets": {},
     "nuid": "7522b14b-60cd-418c-803b-3052d6bb5093",
     "showTitle": false,
     "tableResultSettingsMap": {},
     "title": ""
    }
   },
   "source": [
    "**Los resultados muestran que la exactitud y el F1-Score del modelo son muy bajos. Esto podría deberse a varios factores:**\n",
    "\n",
    "**Problema con los Pesos Ajustados:**\n",
    "- Inferencia: Los pesos pueden estar influyendo desproporcionadamente en las predicciones. El modelo parece estar favoreciendo una clase específica (como 8.0 en las predicciones), lo que podría significar que los pesos no están equilibrados correctamente o el modelo tiene dificultades para aprender patrones de los datos.\n",
    "\n",
    "- Solución: Revisar si los pesos calculados son razonables para todas las clases. Por ejemplo, si una clase tiene demasiada influencia (peso muy alto), puede dominar las predicciones.\n",
    "\n",
    "Se puede intentar normalizar los pesos para reducir diferencias extremas\n",
    "\n",
    "**Posible Subajuste del Modelo:**\n",
    "- Inferencia: El modelo de regresión logística puede ser demasiado simple para capturar las relaciones entre las características y la calidad del vino.\n",
    "- Acción:\n",
    "Intentar usar un modelo más complejo como un RandomForestClassifier o un GBTClassifier.\n",
    "Comparar el rendimiento de estos modelos con el de la regresión logística.\n",
    "\n",
    "**Problemas con las Características:**\n",
    "- Inferencia: Puede que algunas características no estén relacionadas linealmente con quality, y el modelo no logra capturar patrones importantes.\n",
    "- Acción:\n",
    "Usar una herramienta como Correlation o ChiSqSelector para seleccionar las características más relevantes\n",
    "\n",
    "---"
   ]
  },
  {
   "cell_type": "markdown",
   "metadata": {
    "application/vnd.databricks.v1+cell": {
     "cellMetadata": {},
     "inputWidgets": {},
     "nuid": "2315c626-bc96-4590-bc73-99b15c0a08aa",
     "showTitle": false,
     "tableResultSettingsMap": {},
     "title": ""
    }
   },
   "source": [
    "## Plan Propuesto\n",
    "Primero, usar Correlation o ChiSqSelector:\n",
    "\n",
    "Verificar qué características son realmente importantes. Si algunas no son relevantes, eliminarlas y simplificar el modelo.\n",
    "Luego, implementar un modelo más robusto, si es necesario\n",
    "\n",
    "Si todavía hay problemas, pasar a un modelo más completo como Random Forest o Gradient Boosted Trees.\n",
    "\n",
    "Finalmente, balancear el dataset si es necesario:\n",
    "\n",
    "Si las clases siguen siendo un problema, ajustar el dataset mediante técnicas de sobremuestreo o submuestreo."
   ]
  },
  {
   "cell_type": "markdown",
   "metadata": {
    "application/vnd.databricks.v1+cell": {
     "cellMetadata": {},
     "inputWidgets": {},
     "nuid": "97be9acd-724f-421a-9f1f-0f6e868b51bd",
     "showTitle": false,
     "tableResultSettingsMap": {},
     "title": ""
    }
   },
   "source": [
    "### Analizando la correlación y selección de caractrerísticas\n",
    "\n",
    "Primeramente el análisis de correlación con correlation_matrix\n",
    "\n",
    "#### VectorAssembler:\n",
    "\n",
    "Crea una columna de tipo vector con todas las características numéricas (features_vector).\n",
    "- Esto es necesario porque Spark ML requiere que las entradas estén en un formato vectorizado para calcular correlaciones.\n",
    "\n",
    "#### Correlation.corr:\n",
    "\n",
    "Calcula la matriz de correlación entre las características.\n",
    "- La salida es una matriz cuadrada en la que cada entrada representa la correlación entre dos características.\n",
    "\n",
    "#### Filtrar correlaciones altas:\n",
    "\n",
    "Para identificar características redundantes, se revisan los pares de características con correlaciones absolutas mayores a un umbral (como 0.8).\n",
    "- Si dos características están altamente correlacionadas, puedes eliminar una de ellas para reducir redundancia.\n",
    "\n",
    "#### Opcional:\n",
    "\n",
    "Se puede visualizar la matriz completa o simplemente los pares con correlaciones significativas."
   ]
  },
  {
   "cell_type": "code",
   "execution_count": 0,
   "metadata": {
    "application/vnd.databricks.v1+cell": {
     "cellMetadata": {
      "byteLimit": 2048000,
      "rowLimit": 10000
     },
     "inputWidgets": {},
     "nuid": "62368947-866b-4769-99f9-80119cf168b0",
     "showTitle": false,
     "tableResultSettingsMap": {},
     "title": ""
    }
   },
   "outputs": [
    {
     "output_type": "stream",
     "name": "stdout",
     "output_type": "stream",
     "text": [
      "Matriz de Correlación:\n[[ 1.00000000e+00 -2.26972901e-02  2.89180698e-01  8.90207014e-02\n   2.30856437e-02 -4.93958591e-02  9.10697562e-02  2.65331014e-01\n  -4.25858291e-01 -1.71429850e-02 -1.20881123e-01]\n [-2.26972901e-02  1.00000000e+00 -1.49471811e-01  6.42860601e-02\n   7.05115715e-02 -9.70119393e-02  8.92605036e-02  2.71138455e-02\n  -3.19153683e-02 -3.57281469e-02  6.77179428e-02]\n [ 2.89180698e-01 -1.49471811e-01  1.00000000e+00  9.42116243e-02\n   1.14364448e-01  9.40772210e-02  1.21130798e-01  1.49502571e-01\n  -1.63748211e-01  6.23309403e-02 -7.57287301e-02]\n [ 8.90207014e-02  6.42860601e-02  9.42116243e-02  1.00000000e+00\n   8.86845359e-02  2.99098354e-01  4.01439311e-01  8.38966455e-01\n  -1.94133454e-01 -2.66643659e-02 -4.50631222e-01]\n [ 2.30856437e-02  7.05115715e-02  1.14364448e-01  8.86845359e-02\n   1.00000000e+00  1.01392352e-01  1.98910300e-01  2.57211320e-01\n  -9.04394560e-02  1.67628837e-02 -3.60188712e-01]\n [-4.93958591e-02 -9.70119393e-02  9.40772210e-02  2.99098354e-01\n   1.01392352e-01  1.00000000e+00  6.15500965e-01  2.94210411e-01\n  -6.17796140e-04  5.92172458e-02 -2.50103941e-01]\n [ 9.10697562e-02  8.92605036e-02  1.21130798e-01  4.01439311e-01\n   1.98910300e-01  6.15500965e-01  1.00000000e+00  5.29881324e-01\n   2.32097177e-03  1.34562367e-01 -4.48892102e-01]\n [ 2.65331014e-01  2.71138455e-02  1.49502571e-01  8.38966455e-01\n   2.57211320e-01  2.94210411e-01  5.29881324e-01  1.00000000e+00\n  -9.35914935e-02  7.44931485e-02 -7.80137621e-01]\n [-4.25858291e-01 -3.19153683e-02 -1.63748211e-01 -1.94133454e-01\n  -9.04394560e-02 -6.17796140e-04  2.32097177e-03 -9.35914935e-02\n   1.00000000e+00  1.55951497e-01  1.21432099e-01]\n [-1.71429850e-02 -3.57281469e-02  6.23309403e-02 -2.66643659e-02\n   1.67628837e-02  5.92172458e-02  1.34562367e-01  7.44931485e-02\n   1.55951497e-01  1.00000000e+00 -1.74327719e-02]\n [-1.20881123e-01  6.77179428e-02 -7.57287301e-02 -4.50631222e-01\n  -3.60188712e-01 -2.50103941e-01 -4.48892102e-01 -7.80137621e-01\n   1.21432099e-01 -1.74327719e-02  1.00000000e+00]]\nCaracterísticas altamente correlacionadas (umbral > 0.8):\nCaracterísticas 3 y 7: Correlación = 0.84\n"
     ]
    }
   ],
   "source": [
    "from pyspark.ml.feature import VectorAssembler\n",
    "from pyspark.ml.stat import Correlation\n",
    "import numpy as np\n",
    "\n",
    "# Ensamblar todas las características en un vector para el análisis de correlación\n",
    "assembler = VectorAssembler(inputCols=[col for col in data.columns if col != \"quality\"], outputCol=\"features_vector\")\n",
    "vector_data = assembler.transform(data).select(\"features_vector\")\n",
    "\n",
    "# Calcular la matriz de correlación\n",
    "correlation_matrix = Correlation.corr(vector_data, \"features_vector\").head()[0]\n",
    "\n",
    "# Convertir la matriz de correlación a un array de Numpy para facilitar la interpretación\n",
    "correlation_array = np.array(correlation_matrix.toArray())\n",
    "\n",
    "# Mostrar la matriz de correlación (opcional)\n",
    "print(\"Matriz de Correlación:\")\n",
    "print(correlation_array)\n",
    "\n",
    "# Opcional: Mostrar correlaciones altas (por encima de un umbral, por ejemplo, 0.8)\n",
    "threshold = 0.8\n",
    "correlated_features = []\n",
    "for i in range(len(correlation_array)):\n",
    "    for j in range(i+1, len(correlation_array)):\n",
    "        if abs(correlation_array[i][j]) > threshold:\n",
    "            correlated_features.append((i, j, correlation_array[i][j]))\n",
    "\n",
    "# Mostrar las características altamente correlacionadas\n",
    "print(\"Características altamente correlacionadas (umbral > 0.8):\")\n",
    "for feature_pair in correlated_features:\n",
    "    print(f\"Características {feature_pair[0]} y {feature_pair[1]}: Correlación = {feature_pair[2]:.2f}\")\n"
   ]
  },
  {
   "cell_type": "markdown",
   "metadata": {
    "application/vnd.databricks.v1+cell": {
     "cellMetadata": {},
     "inputWidgets": {},
     "nuid": "1f03270d-5cb1-4213-9787-30ef7d69f545",
     "showTitle": false,
     "tableResultSettingsMap": {},
     "title": ""
    }
   },
   "source": [
    "De manera visual, se vería así la correlación"
   ]
  },
  {
   "cell_type": "code",
   "execution_count": 0,
   "metadata": {
    "application/vnd.databricks.v1+cell": {
     "cellMetadata": {
      "byteLimit": 2048000,
      "rowLimit": 10000
     },
     "inputWidgets": {},
     "nuid": "0e21b4ab-01c9-49dd-ad2d-0da3cb0a66ce",
     "showTitle": false,
     "tableResultSettingsMap": {},
     "title": ""
    }
   },
   "outputs": [
    {
     "output_type": "display_data",
     "data": {
      "image/png": "[encoded data removed]"
     },
     "metadata": {
      "application/vnd.databricks.v1+output": {
       "addedWidgets": {},
       "arguments": {},
       "data": "data:image/png;base64,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\n",
       "datasetInfos": [],
       "metadata": {},
       "removedWidgets": [],
       "type": "image"
      }
     },
     "output_type": "display_data"
    }
   ],
   "source": [
    "import matplotlib.pyplot as plt\n",
    "import seaborn as sns\n",
    "\n",
    "# Crear un mapa de calor para visualizar la matriz de correlación\n",
    "plt.figure(figsize=(10, 8))\n",
    "sns.heatmap(\n",
    "    correlation_array,\n",
    "    annot=True,  # Mostrar los valores dentro del mapa de calor\n",
    "    fmt=\".2f\",   # Formato de los números\n",
    "    cmap=\"coolwarm\",  # Colores del mapa\n",
    "    xticklabels=[col for col in data.columns if col != \"quality\"],  # Nombres de las columnas\n",
    "    yticklabels=[col for col in data.columns if col != \"quality\"]\n",
    ")\n",
    "plt.title(\"Matriz de Correlación de las Características\")\n",
    "plt.show()\n"
   ]
  },
  {
   "cell_type": "markdown",
   "metadata": {
    "application/vnd.databricks.v1+cell": {
     "cellMetadata": {},
     "inputWidgets": {},
     "nuid": "e7c17fa9-e7ac-474c-9991-7d06f3b7889b",
     "showTitle": false,
     "tableResultSettingsMap": {},
     "title": ""
    }
   },
   "source": [
    "Basándonos en los resultados de la matriz de correlación y el análisis:\n",
    "\n",
    "### Observaciones Clave:\n",
    "Características altamente correlacionadas:\n",
    "\n",
    "Columna 3 (residual sugar) y columna 7 (density) tienen una correlación de 0.84.\n",
    "Esto significa que estas dos variables están fuertemente relacionadas, lo que puede introducir redundancia en el modelo.\n",
    "\n",
    "## **pero**, también hay una correlación de 0.78\n",
    " también la voy a incluir por estar tan cercana.\n",
    "\n",
    "### Interpretación de la correlación:\n",
    "\n",
    "Las características con correlaciones absolutas mayores a un umbral (por ejemplo, 0.8, o 0.78 para este nuevo acercamiento al problema) suelen ser redundantes porque aportan información muy similar al modelo.\n",
    "Esto puede causar problemas como:\n",
    "\n",
    "Sobreentrenamiento (overfitting), si el modelo da demasiado peso a información redundante.\n",
    "Mayor complejidad del modelo, sin mejorar significativamente el rendimiento."
   ]
  },
  {
   "cell_type": "code",
   "execution_count": 0,
   "metadata": {
    "application/vnd.databricks.v1+cell": {
     "cellMetadata": {
      "byteLimit": 2048000,
      "rowLimit": 10000
     },
     "inputWidgets": {},
     "nuid": "54a81a0b-cd3d-47dd-999a-f64be86d6336",
     "showTitle": false,
     "tableResultSettingsMap": {},
     "title": ""
    }
   },
   "outputs": [
    {
     "output_type": "stream",
     "name": "stdout",
     "output_type": "stream",
     "text": [
      "Características correlacionadas (umbral > 0.78):\nCaracterísticas 3 y 7: Correlación = 0.84\nCaracterísticas 7 y 10: Correlación = -0.78\n"
     ]
    }
   ],
   "source": [
    "# Nuevo umbral para correlaciones moderadamente altas\n",
    "threshold = 0.78\n",
    "\n",
    "# Identificar características altamente correlacionadas según el nuevo umbral\n",
    "correlated_features = []\n",
    "for i in range(len(correlation_array)):\n",
    "    for j in range(i+1, len(correlation_array)):\n",
    "        if abs(correlation_array[i][j]) > threshold:\n",
    "            correlated_features.append((i, j, correlation_array[i][j]))\n",
    "\n",
    "# Mostrar las características correlacionadas\n",
    "print(f\"Características correlacionadas (umbral > {threshold}):\")\n",
    "for feature_pair in correlated_features:\n",
    "    print(f\"Características {feature_pair[0]} y {feature_pair[1]}: Correlación = {feature_pair[2]:.2f}\")\n"
   ]
  },
  {
   "cell_type": "markdown",
   "metadata": {
    "application/vnd.databricks.v1+cell": {
     "cellMetadata": {},
     "inputWidgets": {},
     "nuid": "103e93c1-7030-444b-b587-2596c9f3c9a1",
     "showTitle": false,
     "tableResultSettingsMap": {},
     "title": ""
    }
   },
   "source": [
    "Con los resultados obtenidos, tenemos dos pares de características altamente correlacionadas que debemos analizar:\n",
    "\n",
    "Observaciones:\n",
    "- Características 3 (residual sugar) y 7 (density):\n",
    "\n",
    "#### Correlación positiva de 0.84.\n",
    "Ya se había observado esto anteriormente, y recomendamos eliminar density debido a su dependencia directa de características como residual sugar.\n",
    "\n",
    "#### Características 7 (density) y 10 (alcohol):\n",
    "\n",
    "Correlación negativa de -0.78.\n",
    "- Esto indica que a medida que aumenta el contenido de alcohol, la densidad del vino tiende a disminuir, lo cual tiene sentido químicamente porque el alcohol es menos denso que el agua.\n",
    "\n",
    "## Decisión sobre las Características:\n",
    "#### Eliminar density:\n",
    "\n",
    "Está involucrada en ambas correlaciones altas. \n",
    "- Como density parece depender en gran medida de otras características (como residual sugar y alcohol), eliminarla podría reducir redundancia sin perder mucha información.\n",
    "\n",
    "#### Mantener residual sugar y alcohol:\n",
    "\n",
    "Estas características tienen un impacto directo en la calidad del vino y no presentan correlaciones tan altas entre sí.\n",
    "\n",
    "___________________________________________"
   ]
  },
  {
   "cell_type": "markdown",
   "metadata": {
    "application/vnd.databricks.v1+cell": {
     "cellMetadata": {},
     "inputWidgets": {},
     "nuid": "ac402491-5998-4175-bdd1-079c40463a61",
     "showTitle": false,
     "tableResultSettingsMap": {},
     "title": ""
    }
   },
   "source": [
    "Usar .drop(\"density\") para eliminar esta característica redundante del dataset.\n",
    "\n",
    "Reentrenar el Modelo:\n",
    "- crear nuevamente el pipeline con las características restantes.\n",
    "\n",
    "- features_raw y features se actualizan para reflejar las columnas sin density.\n",
    "\n",
    "Evaluar el Modelo:\n",
    "\n",
    "- Calcular la Exactitud y F1-Score para medir el impacto de eliminar density."
   ]
  },
  {
   "cell_type": "code",
   "execution_count": 0,
   "metadata": {
    "application/vnd.databricks.v1+cell": {
     "cellMetadata": {
      "byteLimit": 2048000,
      "rowLimit": 10000
     },
     "inputWidgets": {},
     "nuid": "7dd244e9-4993-4424-b2eb-3271669996fe",
     "showTitle": false,
     "tableResultSettingsMap": {},
     "title": ""
    }
   },
   "outputs": [
    {
     "output_type": "stream",
     "name": "stdout",
     "output_type": "stream",
     "text": [
      "root\n |-- fixed acidity: double (nullable = true)\n |-- volatile acidity: double (nullable = true)\n |-- citric acid: double (nullable = true)\n |-- residual sugar: double (nullable = true)\n |-- chlorides: double (nullable = true)\n |-- free sulfur dioxide: double (nullable = true)\n |-- total sulfur dioxide: double (nullable = true)\n |-- pH: double (nullable = true)\n |-- sulphates: double (nullable = true)\n |-- alcohol: double (nullable = true)\n |-- quality: integer (nullable = true)\n\nExactitud del modelo después de eliminar 'density': 0.45\nF1-Score del modelo después de eliminar 'density': 0.28\n"
     ]
    }
   ],
   "source": [
    "# Eliminar la característica 'density' del dataset\n",
    "data_reduced = data.drop(\"density\")\n",
    "\n",
    "# Mostrar esquema para confirmar que 'density' ha sido eliminada\n",
    "data_reduced.printSchema()\n",
    "\n",
    "# Reentrenar el modelo con las características actualizadas\n",
    "# Ensamblar las características en un único vector\n",
    "feature_columns = [col for col in data_reduced.columns if col != 'quality']\n",
    "assembler = VectorAssembler(inputCols=feature_columns, outputCol=\"features_raw\")\n",
    "\n",
    "# Escalar las características\n",
    "scaler = StandardScaler(inputCol=\"features_raw\", outputCol=\"features\", withStd=True, withMean=False)\n",
    "\n",
    "# Crear el modelo de regresión logística\n",
    "lr = LogisticRegression(featuresCol=\"features\", labelCol=\"quality\", maxIter=10, regParam=0.3, elasticNetParam=0.8)\n",
    "\n",
    "# Construir el pipeline\n",
    "pipeline = Pipeline(stages=[assembler, scaler, lr])\n",
    "\n",
    "# Dividir el conjunto de datos en entrenamiento y prueba\n",
    "train_data, test_data = data_reduced.randomSplit([0.8, 0.2], seed=42)\n",
    "\n",
    "# Entrenar el modelo\n",
    "model = pipeline.fit(train_data)\n",
    "\n",
    "# Realizar predicciones\n",
    "predictions = model.transform(test_data)\n",
    "\n",
    "# Evaluar el modelo\n",
    "evaluator = MulticlassClassificationEvaluator(labelCol=\"quality\", predictionCol=\"prediction\", metricName=\"accuracy\")\n",
    "accuracy = evaluator.evaluate(predictions)\n",
    "\n",
    "# Mostrar resultados\n",
    "print(f\"Exactitud del modelo después de eliminar 'density': {accuracy:.2f}\")\n",
    "\n",
    "# Evaluar otras métricas (opcional): F1-Score\n",
    "f1_evaluator = MulticlassClassificationEvaluator(labelCol=\"quality\", predictionCol=\"prediction\", metricName=\"f1\")\n",
    "f1_score = f1_evaluator.evaluate(predictions)\n",
    "print(f\"F1-Score del modelo después de eliminar 'density': {f1_score:.2f}\")\n"
   ]
  },
  {
   "cell_type": "markdown",
   "metadata": {
    "application/vnd.databricks.v1+cell": {
     "cellMetadata": {},
     "inputWidgets": {},
     "nuid": "0075c795-06b3-41ad-a9b2-fb557e57a1f9",
     "showTitle": false,
     "tableResultSettingsMap": {},
     "title": ""
    }
   },
   "source": [
    "## Resultados y Observaciones\n",
    "#### Exactitud:\n",
    "\n",
    "La exactitud del modelo no ha cambiado significativamente (sigue en 0.45). Esto sugiere que density no estaba aportando mucha información adicional al modelo, lo cual valida la decisión de eliminarla.\n",
    "#### F1-Score:\n",
    "\n",
    "El F1-Score ha mejorado ligeramente a 0.28 (desde 0.00 previamente). Esto indica que la eliminación de density ayudó a reducir el ruido en el modelo, mejorando su capacidad para capturar patrones en algunas clases.\n",
    "\n",
    "**Posibles Conclusiones**\n",
    "\n",
    "Reducir redundancia fue útil\n",
    "- Aunque la mejora en las métricas no es drástica, eliminar una característica altamente correlacionada como density puede facilitar futuras optimizaciones y hacer que el modelo sea más interpretable.\n",
    "\n",
    "El modelo puede estar limitado:\n",
    "- La regresión logística puede no ser suficientemente compleja para capturar relaciones más profundas en los datos, lo que explica por qué las métricas no mejoran más significativamente.\n",
    "\n",
    "#### Siguientes Pasos a probar\n",
    "Implementar ChiSqSelector:\n",
    "- Como ya está reducidas las redundancias, se puede usar esta herramienta para identificar las características más relevantes en relación con la etiqueta quality. Esto podría ayudar a mejorar el rendimiento del modelo al enfocarse solo en las características más significativas.\n",
    "\n",
    "**Considerar un Modelo Más Complejo:**\n",
    "\n",
    "Si después de usar ChiSqSelector las métricas no mejoran, sería prudente probar un modelo más robusto, como Random Forest o Gradient Boosted Trees, que pueden capturar relaciones no lineales. Aunque me esté reclamando Databricks.. por decirlo así :D"
   ]
  },
  {
   "cell_type": "code",
   "execution_count": 0,
   "metadata": {
    "application/vnd.databricks.v1+cell": {
     "cellMetadata": {
      "byteLimit": 2048000,
      "rowLimit": 10000
     },
     "inputWidgets": {},
     "nuid": "db0301ca-6e65-4e0d-b928-2fb12c19aac0",
     "showTitle": false,
     "tableResultSettingsMap": {},
     "title": ""
    }
   },
   "outputs": [
    {
     "output_type": "stream",
     "name": "stdout",
     "output_type": "stream",
     "text": [
      "Características seleccionadas por ChiSqSelector:\n[0, 1, 2, 3, 4]\nExactitud del modelo con características seleccionadas: 0.45\nF1-Score del modelo con características seleccionadas: 0.28\n"
     ]
    }
   ],
   "source": [
    "from pyspark.ml.feature import ChiSqSelector\n",
    "from pyspark.ml.classification import LogisticRegression\n",
    "from pyspark.ml.feature import VectorAssembler\n",
    "from pyspark.ml.evaluation import MulticlassClassificationEvaluator\n",
    "\n",
    "# Configurar ChiSqSelector para seleccionar las características más relevantes\n",
    "selector = ChiSqSelector(\n",
    "    numTopFeatures=5,  # Seleccionaremos las 5 características más importantes\n",
    "    featuresCol=\"features_raw\",\n",
    "    outputCol=\"selected_features\",\n",
    "    labelCol=\"quality\"\n",
    ")\n",
    "\n",
    "# Aplicar VectorAssembler para ensamblar características en un único vector\n",
    "assembler = VectorAssembler(inputCols=feature_columns, outputCol=\"features_raw\")\n",
    "assembled_data = assembler.transform(data_reduced)\n",
    "\n",
    "# Ajustar y transformar los datos con ChiSqSelector\n",
    "selected_data = selector.fit(assembled_data).transform(assembled_data)\n",
    "\n",
    "# Mostrar las características seleccionadas\n",
    "print(\"Características seleccionadas por ChiSqSelector:\")\n",
    "print(selector.fit(assembled_data).selectedFeatures)\n",
    "\n",
    "# Actualizar el dataset con las características seleccionadas para el modelo\n",
    "data_with_selected_features = selected_data.select(\"selected_features\", \"quality\")\n",
    "\n",
    "# Renombrar la columna para usarla en el modelo\n",
    "data_with_selected_features = data_with_selected_features.withColumnRenamed(\"selected_features\", \"features\")\n",
    "\n",
    "# Dividir el conjunto de datos en entrenamiento y prueba\n",
    "train_data, test_data = data_with_selected_features.randomSplit([0.8, 0.2], seed=42)\n",
    "\n",
    "# Crear y entrenar el modelo de regresión logística con las características seleccionadas\n",
    "lr = LogisticRegression(featuresCol=\"features\", labelCol=\"quality\", maxIter=10, regParam=0.3, elasticNetParam=0.8)\n",
    "model = lr.fit(train_data)\n",
    "\n",
    "# Realizar predicciones\n",
    "predictions = model.transform(test_data)\n",
    "\n",
    "# Evaluar el modelo con características seleccionadas\n",
    "evaluator = MulticlassClassificationEvaluator(labelCol=\"quality\", predictionCol=\"prediction\", metricName=\"accuracy\")\n",
    "accuracy = evaluator.evaluate(predictions)\n",
    "\n",
    "f1_evaluator = MulticlassClassificationEvaluator(labelCol=\"quality\", predictionCol=\"prediction\", metricName=\"f1\")\n",
    "f1_score = f1_evaluator.evaluate(predictions)\n",
    "\n",
    "# Mostrar resultados\n",
    "print(f\"Exactitud del modelo con características seleccionadas: {accuracy:.2f}\")\n",
    "print(f\"F1-Score del modelo con características seleccionadas: {f1_score:.2f}\")\n"
   ]
  },
  {
   "cell_type": "markdown",
   "metadata": {
    "application/vnd.databricks.v1+cell": {
     "cellMetadata": {},
     "inputWidgets": {},
     "nuid": "3ce374f1-3561-4467-9117-b661bbc7a4b9",
     "showTitle": false,
     "tableResultSettingsMap": {},
     "title": ""
    }
   },
   "source": [
    "Con los resultados obtenidos después de aplicar ChiSqSelector, las observaciones basadas en el output, son las siguientes:\n",
    "\n",
    "1. Características Seleccionadas\n",
    "ChiSqSelector seleccionó las características 0, 1, 2, 3 y 4, que corresponden a:\n",
    "- 0: fixed acidity\n",
    "- 1: volatile acidity\n",
    "- 2: citric acid\n",
    "- 3: residual sugar\n",
    "- 4: chlorides\n",
    "- Estas características fueron elegidas como las más relevantes para predecir la calidad del vino.\n",
    "\n",
    "***************************\n",
    "\n",
    "2. Rendimiento del Modelo\n",
    "\n",
    "Exactitud: Se mantiene en 0.45. Ya lo sospechaba pero había que intentarlo.\n",
    "\n",
    "Esto sugiere que la selección de características no alteró la capacidad del modelo para clasificar correctamente, pero tampoco la mejoró.\n",
    "\n",
    "La exactitud está limitada, lo que puede indicar que el modelo de regresión logística no es lo suficientemente complejo.\n",
    "\n",
    "**F1-Score: Se mantiene en 0.28.**\n",
    "\n",
    "Esto indica que, aunque se redujo la dimensionalidad del dataset, el modelo sigue teniendo problemas para capturar patrones en las clases.\n",
    "******************************\n",
    "3. Interpretación\n",
    "\n",
    "Positivo:\n",
    "\n",
    "Ahora el modelo está entrenado con menos características, lo que lo hace más simple y eficiente. Por lo menos.\n",
    "\n",
    "La selección de características no redujo significativamente el rendimiento del modelo.\n",
    "\n",
    "Limitación:\n",
    "\n",
    "La regresión logística puede ser insuficiente para capturar relaciones más complejas entre las características y la calidad del vino.\n",
    "\n",
    "Es probable que el rendimiento esté limitado por la naturaleza del modelo, no por las características seleccionadas.\n",
    "\n",
    "ASí que, vamonos a intentar Random Forest en Databricks esperando no romperlo."
   ]
  },
  {
   "cell_type": "code",
   "execution_count": 0,
   "metadata": {
    "application/vnd.databricks.v1+cell": {
     "cellMetadata": {
      "byteLimit": 2048000,
      "rowLimit": 10000
     },
     "inputWidgets": {},
     "nuid": "20246fb4-2810-4f2a-9205-8596a3eeb62a",
     "showTitle": false,
     "tableResultSettingsMap": {},
     "title": ""
    }
   },
   "outputs": [
    {
     "output_type": "stream",
     "name": "stdout",
     "output_type": "stream",
     "text": [
      "Exactitud del modelo Random Forest: 0.50\nF1-Score del modelo Random Forest: 0.43\n"
     ]
    }
   ],
   "source": [
    "from pyspark.ml.classification import RandomForestClassifier\n",
    "from pyspark.ml.evaluation import MulticlassClassificationEvaluator\n",
    "\n",
    "# Crear el modelo de Random Forest\n",
    "rf = RandomForestClassifier(\n",
    "    featuresCol=\"features\",\n",
    "    labelCol=\"quality\",\n",
    "    numTrees=10,          # Número de árboles\n",
    "    maxDepth=5,           # Profundidad máxima de los árboles\n",
    "    seed=42               # Semilla para reproducibilidad\n",
    ")\n",
    "\n",
    "# Entrenar el modelo con los datos de entrenamiento\n",
    "rf_model = rf.fit(train_data)\n",
    "\n",
    "# Realizar predicciones con los datos de prueba\n",
    "rf_predictions = rf_model.transform(test_data)\n",
    "\n",
    "# Evaluar el modelo usando la métrica de exactitud\n",
    "evaluator = MulticlassClassificationEvaluator(labelCol=\"quality\", predictionCol=\"prediction\", metricName=\"accuracy\")\n",
    "rf_accuracy = evaluator.evaluate(rf_predictions)\n",
    "\n",
    "f1_evaluator = MulticlassClassificationEvaluator(labelCol=\"quality\", predictionCol=\"prediction\", metricName=\"f1\")\n",
    "rf_f1_score = f1_evaluator.evaluate(rf_predictions)\n",
    "\n",
    "# Mostrar resultados\n",
    "print(f\"Exactitud del modelo Random Forest: {rf_accuracy:.2f}\")\n",
    "print(f\"F1-Score del modelo Random Forest: {rf_f1_score:.2f}\")\n"
   ]
  },
  {
   "cell_type": "markdown",
   "metadata": {
    "application/vnd.databricks.v1+cell": {
     "cellMetadata": {},
     "inputWidgets": {},
     "nuid": "936adfc1-3b6d-4d51-b61a-652320bcd128",
     "showTitle": false,
     "tableResultSettingsMap": {},
     "title": ""
    }
   },
   "source": [
    "Intentaré optimizar el random forest primero en sus hiperparámetros antes de tomar alguna decisión.\n",
    "- incremento de numTrees\n",
    "- incrementar profundidad máxima maxDepth\n"
   ]
  },
  {
   "cell_type": "code",
   "execution_count": 0,
   "metadata": {
    "application/vnd.databricks.v1+cell": {
     "cellMetadata": {
      "byteLimit": 2048000,
      "rowLimit": 10000
     },
     "inputWidgets": {},
     "nuid": "a63172cb-d329-4571-be91-853590fa53f7",
     "showTitle": false,
     "tableResultSettingsMap": {},
     "title": ""
    }
   },
   "outputs": [
    {
     "output_type": "stream",
     "name": "stdout",
     "output_type": "stream",
     "text": [
      "Exactitud del modelo Random Forest: 0.60\nF1-Score del modelo Random Forest: 0.57\n"
     ]
    }
   ],
   "source": [
    "from pyspark.ml.classification import RandomForestClassifier\n",
    "from pyspark.ml.evaluation import MulticlassClassificationEvaluator\n",
    "\n",
    "# Crear el modelo de Random Forest\n",
    "rf = RandomForestClassifier(\n",
    "    featuresCol=\"features\",\n",
    "    labelCol=\"quality\",\n",
    "    numTrees=50,          # MÁS ÁRBOLES\n",
    "    maxDepth=10,           # AUMENTANDO LA PROFUNDIDAD\n",
    "    seed=42               # Semilla para reproducibilidad\n",
    ")\n",
    "\n",
    "# Entrenar el modelo con los datos de entrenamiento\n",
    "rf_model = rf.fit(train_data)\n",
    "\n",
    "# Realizar predicciones con los datos de prueba\n",
    "rf_predictions = rf_model.transform(test_data)\n",
    "\n",
    "# Evaluar el modelo usando la métrica de exactitud\n",
    "evaluator = MulticlassClassificationEvaluator(labelCol=\"quality\", predictionCol=\"prediction\", metricName=\"accuracy\")\n",
    "rf_accuracy = evaluator.evaluate(rf_predictions)\n",
    "\n",
    "f1_evaluator = MulticlassClassificationEvaluator(labelCol=\"quality\", predictionCol=\"prediction\", metricName=\"f1\")\n",
    "rf_f1_score = f1_evaluator.evaluate(rf_predictions)\n",
    "\n",
    "# Mostrar resultados\n",
    "print(f\"Exactitud del modelo Random Forest: {rf_accuracy:.2f}\")\n",
    "print(f\"F1-Score del modelo Random Forest: {rf_f1_score:.2f}\")\n"
   ]
  },
  {
   "cell_type": "markdown",
   "metadata": {
    "application/vnd.databricks.v1+cell": {
     "cellMetadata": {},
     "inputWidgets": {},
     "nuid": "51775270-f46c-4603-b0f3-1e5abaf5c6e0",
     "showTitle": false,
     "tableResultSettingsMap": {},
     "title": ""
    }
   },
   "source": [
    "Ahora que el modelo ha mejorado en desempeño, se intentará analizar qué características están contribuyendo más al rendimiento con \n",
    "```\n",
    "importances = rf_model.featureImportances\n",
    "print(\"Importancia de características:\", importances)\n",
    "```"
   ]
  },
  {
   "cell_type": "code",
   "execution_count": 0,
   "metadata": {
    "application/vnd.databricks.v1+cell": {
     "cellMetadata": {
      "byteLimit": 2048000,
      "rowLimit": 10000
     },
     "inputWidgets": {},
     "nuid": "2fc17c40-c5b8-4837-bd27-3e2679eb428c",
     "showTitle": false,
     "tableResultSettingsMap": {},
     "title": ""
    }
   },
   "outputs": [
    {
     "output_type": "stream",
     "name": "stdout",
     "output_type": "stream",
     "text": [
      "Importancia de características: (5,[0,1,2,3,4],[0.20503542160218338,0.20266500222001838,0.1701778390350193,0.2026159023552279,0.21950583478755104])\n"
     ]
    }
   ],
   "source": [
    "importances = rf_model.featureImportances\n",
    "print(\"Importancia de características:\", importances)\n"
   ]
  },
  {
   "cell_type": "code",
   "execution_count": 0,
   "metadata": {
    "application/vnd.databricks.v1+cell": {
     "cellMetadata": {
      "byteLimit": 2048000,
      "rowLimit": 10000
     },
     "inputWidgets": {},
     "nuid": "2d50ed97-1ba8-4071-95db-8051cf9065d9",
     "showTitle": false,
     "tableResultSettingsMap": {},
     "title": ""
    }
   },
   "outputs": [
    {
     "output_type": "display_data",
     "data": {
      "image/png": "[encoded data removed]"
     },
     "metadata": {
      "application/vnd.databricks.v1+output": {
       "addedWidgets": {},
       "arguments": {},
       "data": "data:image/png;base64,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\n",
       "datasetInfos": [],
       "metadata": {},
       "removedWidgets": [],
       "type": "image"
      }
     },
     "output_type": "display_data"
    }
   ],
   "source": [
    "import matplotlib.pyplot as plt\n",
    "\n",
    "# MOSTRANDO DE MANERA GRÁFICA LAS IMPORTANCIAS\n",
    "\n",
    "features = ['fixed acidity', 'volatile acidity', 'citric acid', 'residual sugar', 'chlorides']\n",
    "importances = [0.20503542160218338, 0.20266500222001838, 0.1701778390350193, 0.2026159023552279, 0.21950583478755104]\n",
    "\n",
    "plt.figure(figsize=(8, 6))\n",
    "plt.barh(features, importances, color='skyblue')\n",
    "plt.xlabel('Importancia Relativa')\n",
    "plt.title('Importancia de las Características en Random Forest')\n",
    "plt.show()\n"
   ]
  },
  {
   "cell_type": "markdown",
   "metadata": {
    "application/vnd.databricks.v1+cell": {
     "cellMetadata": {},
     "inputWidgets": {},
     "nuid": "5b5990f7-9e32-491e-af0e-77ca24a321b4",
     "showTitle": false,
     "tableResultSettingsMap": {},
     "title": ""
    }
   },
   "source": [
    "## Análisis de la Importancia de las Características\n",
    "La salida del código antes del gráfico, y obvio luego el gráfico, muestra la importancia relativa de las características seleccionadas en el modelo de Random Forest. Esto indica qué tan influyentes son estas variables en la predicción de la calidad del vino.\n",
    "\n",
    "#### Importancia de las Características\n",
    "**Característica 4 (chlorides): 21.95%**\n",
    "\n",
    "- La característica más influyente, lo que sugiere que la concentración de cloruros tiene un impacto significativo en la calidad del vino.\n",
    "\n",
    "**Característica 0 (fixed acidity): 20.50%**\n",
    "\n",
    "La acidez fija es la segunda característica más importante, lo que tiene sentido porque afecta directamente el sabor del vino.\n",
    "\n",
    "**Característica 1 (volatile acidity): 20.27%**\n",
    "\n",
    "La acidez volátil, asociada con defectos en el vino, también es crucial para predecir su calidad.\n",
    "\n",
    "**Característica 3 (residual sugar): 20.26%**\n",
    "\n",
    "La cantidad de azúcar residual también desempeña un papel importante, ya que influye en el dulzor y el equilibrio del vino.\n",
    "\n",
    "**Característica 2 (citric acid): 17.02%**\n",
    "\n",
    "Aunque es menos importante que las otras características, el ácido cítrico sigue contribuyendo significativamente al modelo.\n",
    "\n",
    "#### Interpretación\n",
    "Distribución Balanceada:\n",
    "- Todas las características seleccionadas tienen una importancia relativamente alta y cercana. \n",
    "- Esto parece indicar que todas están aportando información valiosa al modelo.\n",
    "\n",
    "### Validación del Modelo:\n",
    "Esto valida las decisiones tomadas previamente, como mantener estas características tras la selección con ChiSqSelector."
   ]
  },
  {
   "cell_type": "markdown",
   "metadata": {
    "application/vnd.databricks.v1+cell": {
     "cellMetadata": {},
     "inputWidgets": {},
     "nuid": "792c47ce-52f6-4d65-ab86-d3856b91f6e4",
     "showTitle": false,
     "tableResultSettingsMap": {},
     "title": ""
    }
   },
   "source": [
    "## Matriz de confusión \n",
    "Analizar el desempeño del modelo en cada clase.\n",
    "\n",
    "**Resultados Esperados**\n",
    "- Una tabla o un gráfico de mapa de calor que muestre cómo el modelo clasifica las diferentes clases, destacando los aciertos y errores."
   ]
  },
  {
   "cell_type": "code",
   "execution_count": 0,
   "metadata": {
    "application/vnd.databricks.v1+cell": {
     "cellMetadata": {
      "byteLimit": 2048000,
      "rowLimit": 10000
     },
     "inputWidgets": {},
     "nuid": "92b20b1e-3b0f-49b3-b045-132a95a20eca",
     "showTitle": false,
     "tableResultSettingsMap": {},
     "title": ""
    }
   },
   "outputs": [
    {
     "output_type": "stream",
     "name": "stdout",
     "output_type": "stream",
     "text": [
      "+-------+----------+-----+\n|quality|prediction|count|\n+-------+----------+-----+\n|      8|       7.0|    5|\n|      9|       6.0|    1|\n|      6|       8.0|    2|\n|      7|       8.0|    1|\n|      5|       5.0|  163|\n|      6|       6.0|  338|\n|      5|       7.0|    6|\n|      6|       5.0|   54|\n|      7|       5.0|    3|\n|      7|       7.0|   55|\n|      9|       5.0|    1|\n|      4|       5.0|   22|\n|      3|       5.0|    2|\n|      6|       7.0|   26|\n|      4|       7.0|    3|\n|      5|       6.0|  119|\n|      3|       6.0|    1|\n|      7|       6.0|  101|\n|      8|       6.0|   15|\n|      8|       8.0|    5|\n+-------+----------+-----+\nonly showing top 20 rows\n\n"
     ]
    },
    {
     "output_type": "display_data",
     "data": {
      "image/png": "[encoded data removed]"
     },
     "metadata": {
      "application/vnd.databricks.v1+output": {
       "addedWidgets": {},
       "arguments": {},
       "data": "data:image/png;base64,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\n",
       "datasetInfos": [],
       "metadata": {},
       "removedWidgets": [],
       "type": "image"
      }
     },
     "output_type": "display_data"
    }
   ],
   "source": [
    "# Crear una matriz de confusión simple\n",
    "confusion_matrix = rf_predictions.groupBy(\"quality\", \"prediction\").count()\n",
    "\n",
    "# Mostrar la matriz de confusión\n",
    "confusion_matrix.show()\n",
    "\n",
    "# Para un enfoque más visual (si tienes librerías disponibles):\n",
    "from pyspark.sql.functions import lit\n",
    "import pandas as pd\n",
    "import seaborn as sns\n",
    "\n",
    "# Convertir la matriz a Pandas DataFrame para graficar\n",
    "confusion_pd = confusion_matrix.toPandas().pivot(index=\"quality\", columns=\"prediction\", values=\"count\").fillna(0)\n",
    "\n",
    "# Convertir los valores a enteros para evitar problemas con el formato\n",
    "confusion_pd = confusion_pd.astype(int)\n",
    "\n",
    "# Crear el mapa de calor\n",
    "plt.figure(figsize=(8, 6))\n",
    "sns.heatmap(confusion_pd, annot=True, fmt=\"d\", cmap=\"Blues\")\n",
    "plt.xlabel(\"Predicción\")\n",
    "plt.ylabel(\"Clase Real\")\n",
    "plt.title(\"Matriz de Confusión - Random Forest\")\n",
    "plt.show()\n"
   ]
  },
  {
   "cell_type": "markdown",
   "metadata": {
    "application/vnd.databricks.v1+cell": {
     "cellMetadata": {},
     "inputWidgets": {},
     "nuid": "d31ff0ac-8579-4ee5-ac5d-7d45d79d20db",
     "showTitle": false,
     "tableResultSettingsMap": {},
     "title": ""
    }
   },
   "source": [
    "**Ejes de la Matriz**\n",
    "- Filas (Clase Real): Representan las clases reales (etiquetas verdaderas) del dataset.\n",
    "- Columnas (Predicción): Representan las clases predichas por el modelo.\n",
    "\n",
    "Cada celda muestra el número de instancias clasificadas en una combinación específica de clase real y predicción.\n",
    "\n",
    "---\n",
    "\n",
    "#### Análisis de la Matriz\n",
    "Clase Mayoritaria: 6\n",
    "\n",
    "- La clase 6 domina tanto en las etiquetas reales como en las predicciones:\n",
    "- Predicciones Correctas: 338 instancias clasificadas correctamente como 6 (diagonal principal).\n",
    "- Errores: El modelo también predice 6 incorrectamente para instancias reales de las clases 5 (163) y 7 (101).\n",
    "\n",
    "Clase 5\n",
    "\n",
    "- La clase 5 tiene 119 instancias correctamente clasificadas, pero:\n",
    "- 163 instancias reales de 5 se predicen como 6, lo que indica una confusión significativa entre estas clases.\n",
    "\n",
    "Clase 7\n",
    "\n",
    "- 55 instancias de la clase real 7 se predicen correctamente.\n",
    "- Sin embargo, 101 instancias de 7 son mal clasificadas como 6, mostrando confusión entre estas clases.\n",
    "\n",
    "Clases Minoritarias (3, 4, 8, 9)\n",
    "\n",
    "- Estas clases tienen pocas instancias y sufren más errores:\n",
    "- Por ejemplo, para la clase 4, solo 22 instancias son correctamente clasificadas, mientras que 14 son mal clasificadas como 5 y 3 como 6.\n",
    "- Las clases 8 y 9 tienen muy pocas instancias predichas correctamente (5 y 1, respectivamente), lo que sugiere que el modelo tiene dificultades para manejar estas clases poco representadas."
   ]
  },
  {
   "cell_type": "markdown",
   "metadata": {
    "application/vnd.databricks.v1+cell": {
     "cellMetadata": {},
     "inputWidgets": {},
     "nuid": "60e3469d-828c-4967-9bb8-8eee1778ca9c",
     "showTitle": false,
     "tableResultSettingsMap": {},
     "title": ""
    }
   },
   "source": [
    "*****************\n",
    "Antes quiro probar otros hiperparámetros en numTrees, maxDepth y maxBins"
   ]
  },
  {
   "cell_type": "code",
   "execution_count": 0,
   "metadata": {
    "application/vnd.databricks.v1+cell": {
     "cellMetadata": {
      "byteLimit": 2048000,
      "rowLimit": 10000
     },
     "inputWidgets": {},
     "nuid": "90dea0ba-40a3-4b35-93bc-ac038bda68e5",
     "showTitle": false,
     "tableResultSettingsMap": {},
     "title": ""
    }
   },
   "outputs": [
    {
     "output_type": "stream",
     "name": "stdout",
     "output_type": "stream",
     "text": [
      "Exactitud del modelo ajustado Random Forest: 0.63\nF1-Score del modelo ajustado Random Forest: 0.62\nImportancia de características ajustadas: (5,[0,1,2,3,4],[0.24535531976811242,0.181870183965634,0.1634790714055566,0.20452646114878614,0.20476896371191086])\n"
     ]
    }
   ],
   "source": [
    "# Ajustar el modelo Random Forest con nuevos hiperparámetros\n",
    "rf = RandomForestClassifier(\n",
    "    featuresCol=\"features\",\n",
    "    labelCol=\"quality\",\n",
    "    numTrees=60,                # Aumentar el número de árboles, de 50 a 60\n",
    "    maxDepth=20,                # Mayor profundidad para capturar relaciones complejas, de 10 a 20\n",
    "    maxBins=32,                 # Más divisiones para discretizar características\n",
    "    featureSubsetStrategy=\"auto\",  # Selección de características por división\n",
    "    seed=42                     # Semilla para reproducibilidad\n",
    ")\n",
    "\n",
    "# Entrenar el modelo con los datos de entrenamiento\n",
    "rf_model = rf.fit(train_data)\n",
    "\n",
    "# Realizar predicciones con los datos de prueba\n",
    "rf_predictions = rf_model.transform(test_data)\n",
    "\n",
    "# Evaluar el modelo usando la métrica de exactitud\n",
    "rf_accuracy = evaluator.evaluate(rf_predictions)\n",
    "rf_f1_score = f1_evaluator.evaluate(rf_predictions)\n",
    "\n",
    "# Mostrar resultados\n",
    "print(f\"Exactitud del modelo ajustado Random Forest: {rf_accuracy:.2f}\")\n",
    "print(f\"F1-Score del modelo ajustado Random Forest: {rf_f1_score:.2f}\")\n",
    "\n",
    "# (Opcional) Mostrar importancia de características nuevamente\n",
    "print(\"Importancia de características ajustadas:\", rf_model.featureImportances)\n"
   ]
  },
  {
   "cell_type": "markdown",
   "metadata": {
    "application/vnd.databricks.v1+cell": {
     "cellMetadata": {},
     "inputWidgets": {},
     "nuid": "9c13903b-2735-4947-be75-40875509d1e2",
     "showTitle": false,
     "tableResultSettingsMap": {},
     "title": ""
    }
   },
   "source": [
    "## Resultados\n",
    "**Exactitud: 0.63**\n",
    "\n",
    "- Este es el mejor valor alcanzado hasta ahora (mejor que el modelo inicial y las versiones optimizadas previamente).\n",
    "- Muestra que el modelo está clasificando correctamente un 63% de las instancias en el dataset de prueba.\n",
    "\n",
    "**F1-Score: 0.62**\n",
    "\n",
    "- Este valor refleja un equilibrio entre precisión y recuperación.\n",
    "- Es una mejora significativa en comparación con versiones previas del modelo, lo que indica que el modelo está manejando mejor las diferentes clases.\n",
    "\n",
    "**Importancia de Características:**\n",
    "\n",
    "- Las importancias ajustadas muestran que todas las características seleccionadas contribuyen significativamente al modelo:\n",
    "- fixed acidity (0.245): Sigue siendo la característica más importante.\n",
    "- volatile acidity (0.182): Ha reducido ligeramente su importancia en comparación con iteraciones previas.\n",
    "- citric acid (0.163): Aporta menos que las demás, pero aún es relevante.\n",
    "- residual sugar (0.205) y chlorides (0.205): Estas dos características han aumentado su importancia y son claves para las predicciones.\n",
    "\n",
    "## Interpretación\n",
    "**Mejora Global:**\n",
    "\n",
    "- Los ajustes en los hiperparámetros, especialmente el aumento en numTrees y maxDepth, han permitido al modelo capturar relaciones más complejas en los datos.\n",
    "- El valor de maxDepth=20 ayudó a capturar más detalles sin causar sobreajuste significativo gracias a featureSubsetStrategy=\"auto\".\n",
    "\n",
    "**Importancia de las Características:**\n",
    "\n",
    "- La distribución más balanceada de las importancias indica que el modelo está utilizando bien todas las características para tomar decisiones. \n",
    "- O por lo menos mejor que los anteriores y todavía databricks lo puede correr en tiempo razonable. Creo es mejor detener el cambio de hiperparámetros aquí."
   ]
  },
  {
   "cell_type": "markdown",
   "metadata": {
    "application/vnd.databricks.v1+cell": {
     "cellMetadata": {},
     "inputWidgets": {},
     "nuid": "29b086af-52ff-4234-aab3-1dd5a22f98e0",
     "showTitle": false,
     "tableResultSettingsMap": {},
     "title": ""
    }
   },
   "source": [
    "*********************\n",
    "Validación cruzada para asegurar que los resultados no están influenciados por la partición actual de entrenamiento y prueba."
   ]
  },
  {
   "cell_type": "markdown",
   "metadata": {
    "application/vnd.databricks.v1+cell": {
     "cellMetadata": {},
     "inputWidgets": {},
     "nuid": "0c9706e3-8be4-49ad-8d36-57756120e1e9",
     "showTitle": false,
     "tableResultSettingsMap": {},
     "title": ""
    }
   },
   "source": [
    "La siguiente celda implementa validación cruzada en Spark para optimizar el modelo de Random Forest. \n",
    "\n",
    "La explicación por sección sería:\n",
    "\n",
    "### Validación cruzada\n",
    "La validación cruzada divide el dataset en múltiples particiones (**folds**), entrena el modelo en una parte de los datos y lo evalúa en otra, repitiendo este proceso varias veces. Esto permite obtener un rendimiento promedio más robusto y seleccionar los mejores hiperparámetros.\n",
    "\n",
    "#### **Importaciones**\n",
    "```python\n",
    "from pyspark.ml.tuning import CrossValidator, ParamGridBuilder\n",
    "from pyspark.ml.evaluation import MulticlassClassificationEvaluator\n",
    "```\n",
    "- **`CrossValidator`**: Realiza el proceso de validación cruzada para optimizar hiperparámetros.\n",
    "- **`ParamGridBuilder`**: Crea una grilla de combinaciones de hiperparámetros para probar.\n",
    "- **`MulticlassClassificationEvaluator`**: Evalúa el rendimiento del modelo en tareas de clasificación multiclase (usando métricas como exactitud o F1-Score).\n",
    "\n",
    "\n",
    "\n",
    "#### **Crear el grid de Hiperparámetros que ya usé**\n",
    "```python\n",
    "paramGrid = ParamGridBuilder() \\\n",
    "    .addGrid(rf.numTrees, [50, 60]) \\\n",
    "    .addGrid(rf.maxDepth, [10, 20]) \\\n",
    "    .build()\n",
    "```\n",
    "- **`ParamGridBuilder`**:\n",
    "  - Define las combinaciones de hiperparámetros que el modelo probará.\n",
    "  - En este caso:\n",
    "    - Se probarán `numTrees=50` y `numTrees=60`.\n",
    "    - Se probarán `maxDepth=10` y `maxDepth=20`.\n",
    "  - Esto genera **4 combinaciones** de hiperparámetros:\n",
    "    - (numTrees=50, maxDepth=10)\n",
    "    - (numTrees=50, maxDepth=20)\n",
    "    - (numTrees=60, maxDepth=10)\n",
    "    - (numTrees=60, maxDepth=20)\n",
    "\n",
    "\n",
    "\n",
    "#### **Configurar el Proceso de Validación Cruzada**\n",
    "```python\n",
    "crossval = CrossValidator(\n",
    "    estimator=rf,\n",
    "    estimatorParamMaps=paramGrid,\n",
    "    evaluator=evaluator,\n",
    "    numFolds=5,  # Número de folds\n",
    "    seed=42\n",
    ")\n",
    "```\n",
    "- **`CrossValidator`**:\n",
    "  - **`estimator=rf`**:\n",
    "    - El modelo de Random Forest que se optimizará.\n",
    "  - **`estimatorParamMaps=paramGrid`**:\n",
    "    - El grid de hiperparámetros que será evaluada.\n",
    "  - **`evaluator=evaluator`**:\n",
    "    - La métrica utilizada para evaluar el rendimiento (en este caso, exactitud o F1-Score).\n",
    "  - **`numFolds=5`**:\n",
    "    - Divide el dataset en 5 particiones (folds). En cada iteración:\n",
    "      - 4 folds se usan para entrenar.\n",
    "      - 1 fold se usa para validar.\n",
    "      - Esto se repite 5 veces, rotando los folds.\n",
    "\n",
    "\n",
    "\n",
    "#### **Ejecutar la Validación Cruzada**\n",
    "```python\n",
    "cv_model = crossval.fit(train_data)\n",
    "```\n",
    "- Entrena y evalúa el modelo usando todas las combinaciones de hiperparámetros en la grilla.\n",
    "- Calcula el promedio de la métrica en los 5 folds para cada combinación.\n",
    "\n",
    "---\n",
    "\n",
    "#### **Seleccionar el Mejor Modelo**\n",
    "```python\n",
    "best_model = cv_model.bestModel\n",
    "print(\"Mejor modelo:\", best_model)\n",
    "```\n",
    "- **`cv_model.bestModel`**:\n",
    "  - Devuelve el modelo con la mejor combinación de hiperparámetros basado en la métrica de evaluación.\n",
    "- Este modelo puede usarse directamente para predicciones.\n",
    "\n",
    "\n",
    "### **Función del código**\n",
    "1. Prueba 4 combinaciones de hiperparámetros (`numTrees` y `maxDepth`) usando validación cruzada de 5 folds.\n",
    "2. Calcula la métrica promedio (e.g., exactitud o F1-Score) para cada combinación.\n",
    "3. Selecciona el modelo con el mejor rendimiento.\n",
    "4. Devuelve el mejor modelo, listo para usarse en predicciones.\n",
    "\n",
    "### **¿Por Qué Tarda tanto en databricks?**\n",
    "- **Número de Combinaciones**:\n",
    "  - Hay 4 combinaciones de hiperparámetros y 5 folds por combinación. Esto implica **20 entrenamientos** en total.\n",
    "- **Complejidad del Modelo**:\n",
    "  - Cada modelo tiene `numTrees` y `maxDepth`, que afectan directamente el tiempo de entrenamiento.\n",
    "  - Ejemplo:\n",
    "    - `numTrees=60` significa que se construirán 60 árboles en cada fold.\n",
    "\n",
    "---\n",
    "\n"
   ]
  },
  {
   "cell_type": "code",
   "execution_count": 0,
   "metadata": {
    "application/vnd.databricks.v1+cell": {
     "cellMetadata": {
      "byteLimit": 2048000,
      "rowLimit": 10000
     },
     "inputWidgets": {},
     "nuid": "bf4d77e3-2e85-4585-9a85-369881c933cb",
     "showTitle": false,
     "tableResultSettingsMap": {},
     "title": ""
    }
   },
   "outputs": [
    {
     "output_type": "stream",
     "name": "stdout",
     "output_type": "stream",
     "text": [
      "Mejor modelo: RandomForestClassificationModel: uid=RandomForestClassifier_a95fa0e235cd, numTrees=50, numClasses=10, numFeatures=5\n"
     ]
    }
   ],
   "source": [
    "from pyspark.ml.tuning import CrossValidator, ParamGridBuilder\n",
    "from pyspark.ml.evaluation import MulticlassClassificationEvaluator\n",
    "\n",
    "# Crear una grilla de hiperparámetros para probar\n",
    "paramGrid = ParamGridBuilder() \\\n",
    "    .addGrid(rf.numTrees, [50, 60]) \\\n",
    "    .addGrid(rf.maxDepth, [10, 20]) \\\n",
    "    .build()\n",
    "\n",
    "# Configurar CrossValidator\n",
    "crossval = CrossValidator(\n",
    "    estimator=rf,\n",
    "    estimatorParamMaps=paramGrid,\n",
    "    evaluator=evaluator,\n",
    "    numFolds=5,  # Número de folds\n",
    "    seed=42\n",
    ")\n",
    "\n",
    "# Ejecutar validación cruzada\n",
    "cv_model = crossval.fit(train_data)\n",
    "\n",
    "# Evaluar el mejor modelo\n",
    "best_model = cv_model.bestModel\n",
    "print(\"Mejor modelo:\", best_model)\n"
   ]
  },
  {
   "cell_type": "markdown",
   "metadata": {
    "application/vnd.databricks.v1+cell": {
     "cellMetadata": {},
     "inputWidgets": {},
     "nuid": "7a8e9b17-9a54-45fc-b2b0-bb0ad8d05347",
     "showTitle": false,
     "tableResultSettingsMap": {},
     "title": ""
    }
   },
   "source": [
    "Nota, este proceso tomó 13 minutos en total\n",
    "*****"
   ]
  },
  {
   "cell_type": "markdown",
   "metadata": {
    "application/vnd.databricks.v1+cell": {
     "cellMetadata": {},
     "inputWidgets": {},
     "nuid": "9cd16543-dfca-4ddd-ba3c-56b268798184",
     "showTitle": false,
     "tableResultSettingsMap": {},
     "title": ""
    }
   },
   "source": [
    "**Detalles del Mejor Modelo**\n",
    "\n",
    "numTrees=50:\n",
    "\n",
    "El mejor modelo utiliza 50 árboles.\n",
    "- Esto indica que no fue necesario usar 60 árboles para obtener un mejor rendimiento. Más árboles pueden aumentar la precisión, pero también el tiempo de entrenamiento.\n",
    "\n",
    "numClasses=10:\n",
    "- Esto confirma que el modelo maneja 10 posibles clases (quality va de 3 a 9, aunque algunas clases no estén bien representadas).\n",
    "\n",
    "numFeatures=5:\n",
    "- El modelo está trabajando con las 5 características seleccionadas previamente mediante ChiSqSelector.\n",
    "\n",
    "********\n",
    "**Próximos paso a realizar**\n",
    "\n",
    "Evaluar el Rendimiento del Mejor Modelo:\n",
    "\n",
    "Ahora a evaluar este modelo con los datos de prueba para verificar su desempeño."
   ]
  },
  {
   "cell_type": "code",
   "execution_count": 0,
   "metadata": {
    "application/vnd.databricks.v1+cell": {
     "cellMetadata": {
      "byteLimit": 2048000,
      "rowLimit": 10000
     },
     "inputWidgets": {},
     "nuid": "b47113d2-f069-4edd-9446-d21c34299031",
     "showTitle": false,
     "tableResultSettingsMap": {},
     "title": ""
    }
   },
   "outputs": [
    {
     "output_type": "stream",
     "name": "stdout",
     "output_type": "stream",
     "text": [
      "Exactitud del mejor modelo: 0.64\nF1-Score del mejor modelo: 0.62\n"
     ]
    }
   ],
   "source": [
    "# Evaluar el mejor modelo en los datos de prueba\n",
    "rf_predictions = best_model.transform(test_data)\n",
    "\n",
    "# Calcular métricas de evaluación\n",
    "rf_accuracy = evaluator.evaluate(rf_predictions)\n",
    "rf_f1_score = f1_evaluator.evaluate(rf_predictions)\n",
    "\n",
    "print(f\"Exactitud del mejor modelo: {rf_accuracy:.2f}\")\n",
    "print(f\"F1-Score del mejor modelo: {rf_f1_score:.2f}\")\n"
   ]
  },
  {
   "cell_type": "markdown",
   "metadata": {
    "application/vnd.databricks.v1+cell": {
     "cellMetadata": {},
     "inputWidgets": {},
     "nuid": "7d4d744d-e315-4f81-b7ad-127c8559c599",
     "showTitle": false,
     "tableResultSettingsMap": {},
     "title": ""
    }
   },
   "source": [
    "**Rendimiento del Modelo**\n",
    "\n",
    "Exactitud: 0.64:\n",
    "- Es el mejor valor alcanzado hasta ahora.\n",
    "- Esto significa que el modelo clasifica correctamente el 64% de las instancias en el dataset de prueba.\n",
    "\n",
    "F1-Score: 0.62:\n",
    "- Refleja un excelente equilibrio entre precisión (evitar falsos positivos) y recuperación (capturar verdaderos positivos).\n",
    "- Esto indica que el modelo está manejando bien las diferentes clases, incluso en un dataset desbalanceado.\n",
    "\n",
    "**Importancia de las Características**\n",
    "\n",
    "Las importancias han cambiado ligeramente tras la validación cruzada:\n",
    "\n",
    "Característica\tImportancia\n",
    "- fixed acidity\t24.51%\n",
    "- volatile acidity\t18.27%\n",
    "- citric acid\t16.46%\n",
    "- residual sugar\t20.70%\n",
    "- chlorides\t20.05%\n",
    "\n",
    "Análisis:\n",
    "- fixed acidity sigue siendo la característica más importante, lo que refuerza su relevancia en la calidad del vino.\n",
    "- residual sugar y chlorides también contribuyen significativamente, lo cual tiene sentido ya que afectan directamente al dulzor y la salinidad del vino.\n",
    "- Todas las características seleccionadas aportan valor al modelo, sin que ninguna quede relegada.\n",
    "\n",
    "**Interpretación Global**\n",
    "\n",
    "Mejoras Logradas:\n",
    "- La validación cruzada ayudó a identificar una configuración óptima de hiperparámetros, lo que permitió un incremento en la exactitud (0.64) y un F1-Score sólido (0.62).\n",
    "- Los resultados son consistentes con lo observado previamente, validando la robustez del modelo.\n",
    "\n",
    "Importancia Balanceada:\n",
    "- Las importancias están distribuidas de manera uniforme entre las características, lo que indica que el modelo está utilizando todas las variables para tomar decisiones."
   ]
  },
  {
   "cell_type": "markdown",
   "metadata": {
    "application/vnd.databricks.v1+cell": {
     "cellMetadata": {},
     "inputWidgets": {},
     "nuid": "ce71f142-9440-4c44-b867-628e7eb8f088",
     "showTitle": false,
     "tableResultSettingsMap": {},
     "title": ""
    }
   },
   "source": [
    "A continuación\n",
    "\n",
    "Extraer Importancia de Características para analizar cuáles fueron más relevantes en el mejor modelo"
   ]
  },
  {
   "cell_type": "code",
   "execution_count": 0,
   "metadata": {
    "application/vnd.databricks.v1+cell": {
     "cellMetadata": {
      "byteLimit": 2048000,
      "rowLimit": 10000
     },
     "inputWidgets": {},
     "nuid": "54143093-c01a-440d-a89e-a4330af17b45",
     "showTitle": false,
     "tableResultSettingsMap": {},
     "title": ""
    }
   },
   "outputs": [
    {
     "output_type": "stream",
     "name": "stdout",
     "output_type": "stream",
     "text": [
      "Importancia de características del mejor modelo: (5,[0,1,2,3,4],[0.24511017263736776,0.18270507612821174,0.16463232149336593,0.20702419308034772,0.20052823666070688])\n"
     ]
    }
   ],
   "source": [
    "print(\"Importancia de características del mejor modelo:\", best_model.featureImportances)\n"
   ]
  },
  {
   "cell_type": "markdown",
   "metadata": {
    "application/vnd.databricks.v1+cell": {
     "cellMetadata": {},
     "inputWidgets": {},
     "nuid": "3565c6ff-e1f9-43ff-8472-27d965f3f71c",
     "showTitle": false,
     "tableResultSettingsMap": {},
     "title": ""
    }
   },
   "source": [
    "**Rendimiento del Modelo**\n",
    "\n",
    "Exactitud: 0.64:\n",
    "- Es el mejor valor alcanzado hasta ahora.\n",
    "- Esto significa que el modelo clasifica correctamente el 64% de las instancias en el dataset de prueba.\n",
    "\n",
    "F1-Score: 0.62:\n",
    "- Refleja un excelente equilibrio entre precisión (evitar falsos positivos) y recuperación (capturar verdaderos positivos).\n",
    "- Esto indica que el modelo está manejando bien las diferentes clases, incluso en un dataset desbalanceado.\n",
    "\n",
    "**Importancia de las Características**\n",
    "\n",
    "Las importancias han cambiado ligeramente tras la validación cruzada:\n",
    "\n",
    "Característica\tImportancia\n",
    "- fixed acidity\t24.51%\n",
    "- volatile acidity\t18.27%\n",
    "- citric acid\t16.46%\n",
    "- residual sugar\t20.70%\n",
    "- chlorides\t20.05%\n",
    "\n",
    "Análisis:\n",
    "- fixed acidity sigue siendo la característica más importante, lo que refuerza su relevancia en la calidad del vino.\n",
    "- residual sugar y chlorides también contribuyen significativamente, lo cual tiene sentido ya que afectan directamente al dulzor y la salinidad del vino.\n",
    "- Todas las características seleccionadas aportan valor al modelo, sin que ninguna quede relegada.\n",
    "\n",
    "**Interpretación Global**\n",
    "\n",
    "Mejoras Logradas:\n",
    "- La validación cruzada ayudó a identificar una configuración óptima de hiperparámetros, lo que permitió un incremento en la exactitud (0.64) y un F1-Score sólido (0.62).\n",
    "- Los resultados son consistentes con lo observado previamente, validando la robustez del modelo.\n",
    "\n",
    "Importancia Balanceada:\n",
    "- Las importancias están distribuidas de manera uniforme entre las características, lo que indica que el modelo está utilizando todas las variables para tomar decisiones."
   ]
  },
  {
   "cell_type": "code",
   "execution_count": 0,
   "metadata": {
    "application/vnd.databricks.v1+cell": {
     "cellMetadata": {
      "byteLimit": 2048000,
      "rowLimit": 10000
     },
     "inputWidgets": {},
     "nuid": "112de730-dcf2-4955-83d0-3c7794ed8faf",
     "showTitle": false,
     "tableResultSettingsMap": {},
     "title": ""
    }
   },
   "outputs": [
    {
     "output_type": "stream",
     "name": "stdout",
     "output_type": "stream",
     "text": [
      "Modelo guardado correctamente en: /dbfs/models/random_forest_best_model\n"
     ]
    }
   ],
   "source": [
    "# Crear el directorio en DBFS antes de guardar el modelo\n",
    "dbutils.fs.mkdirs(\"dbfs:/models/random_forest_best_model\")\n",
    "\n",
    "# Guardar el modelo\n",
    "save_path = \"/dbfs/models/random_forest_best_model\"\n",
    "best_model.write().overwrite().save(save_path)\n",
    "\n",
    "print(f\"Modelo guardado correctamente en: {save_path}\")\n"
   ]
  },
  {
   "cell_type": "code",
   "execution_count": 0,
   "metadata": {
    "application/vnd.databricks.v1+cell": {
     "cellMetadata": {
      "byteLimit": 2048000,
      "rowLimit": 10000
     },
     "inputWidgets": {},
     "nuid": "c40c7219-c187-4100-b5d1-6619c3fb1159",
     "showTitle": false,
     "tableResultSettingsMap": {},
     "title": ""
    }
   },
   "outputs": [
    {
     "output_type": "stream",
     "name": "stdout",
     "output_type": "stream",
     "text": [
      "Modelo guardado en el sistema local: file:/tmp/random_forest_best_model\n"
     ]
    }
   ],
   "source": [
    "# Guardar el modelo en el sistema local de Databricks\n",
    "save_path = \"file:/tmp/random_forest_best_model\"\n",
    "best_model.write().overwrite().save(save_path)\n",
    "\n",
    "print(f\"Modelo guardado en el sistema local: {save_path}\")\n"
   ]
  },
  {
   "cell_type": "code",
   "execution_count": 0,
   "metadata": {
    "application/vnd.databricks.v1+cell": {
     "cellMetadata": {
      "byteLimit": 2048000,
      "rowLimit": 10000
     },
     "inputWidgets": {},
     "nuid": "edb16286-cca8-470a-8f0c-8c6dc74e5b03",
     "showTitle": false,
     "tableResultSettingsMap": {},
     "title": ""
    }
   },
   "outputs": [
    {
     "output_type": "stream",
     "name": "stdout",
     "output_type": "stream",
     "text": [
      "Out[34]: [FileInfo(path='file:/tmp/random_forest_best_model/metadata/', name='metadata/', size=4096, modificationTime=1731984067855),\n FileInfo(path='file:/tmp/random_forest_best_model/data/', name='data/', size=4096, modificationTime=1731984070883),\n FileInfo(path='file:/tmp/random_forest_best_model/treesMetadata/', name='treesMetadata/', size=4096, modificationTime=1731984068119)]"
     ]
    }
   ],
   "source": [
    "# Listar los archivos en la ubicación local\n",
    "dbutils.fs.ls(\"file:/tmp/random_forest_best_model\")\n"
   ]
  },
  {
   "cell_type": "markdown",
   "metadata": {
    "application/vnd.databricks.v1+cell": {
     "cellMetadata": {},
     "inputWidgets": {},
     "nuid": "0892120a-d7a2-4635-ba65-a7a11ec3c73b",
     "showTitle": false,
     "tableResultSettingsMap": {},
     "title": ""
    }
   },
   "source": [
    "Detalles del Output\n",
    "\n",
    "metadata/:\n",
    "- Contiene la información principal del modelo (como los hiperparámetros y el esquema de las características).\n",
    "- Este archivo es esencial para cargar y reconstruir el modelo.\n",
    "\n",
    "data/:\n",
    "- Almacena los datos necesarios para las predicciones del modelo, como los nodos de los árboles.\n",
    "- Es el núcleo del modelo.\n",
    "\n",
    "treesMetadata/:\n",
    "- Contiene información específica de los árboles en el modelo de Random Forest (como su estructura y estadísticas).\n",
    "- Es importante para interpretar el modelo."
   ]
  },
  {
   "cell_type": "code",
   "execution_count": 0,
   "metadata": {
    "application/vnd.databricks.v1+cell": {
     "cellMetadata": {
      "byteLimit": 2048000,
      "rowLimit": 10000
     },
     "inputWidgets": {},
     "nuid": "728563cc-b32f-49cb-9693-b043a4d0b220",
     "showTitle": false,
     "tableResultSettingsMap": {},
     "title": ""
    }
   },
   "outputs": [
    {
     "output_type": "stream",
     "name": "stdout",
     "output_type": "stream",
     "text": [
      "Modelo cargado correctamente: RandomForestClassificationModel: uid=RandomForestClassifier_a95fa0e235cd, numTrees=50, numClasses=10, numFeatures=5\n"
     ]
    }
   ],
   "source": [
    "from pyspark.ml.classification import RandomForestClassificationModel\n",
    "\n",
    "# Cargar el modelo desde la ubicación guardada\n",
    "loaded_model = RandomForestClassificationModel.load(\"file:/tmp/random_forest_best_model\")\n",
    "\n",
    "# Confirmar que el modelo se cargó correctamente\n",
    "print(\"Modelo cargado correctamente:\", loaded_model)\n"
   ]
  },
  {
   "cell_type": "markdown",
   "metadata": {
    "application/vnd.databricks.v1+cell": {
     "cellMetadata": {},
     "inputWidgets": {},
     "nuid": "89755c26-ac7a-4785-bc34-380efa84cf10",
     "showTitle": false,
     "tableResultSettingsMap": {},
     "title": ""
    }
   },
   "source": [
    "## **Documentación del Proyecto: Predicción de la Calidad del Vino con Random Forest en Databricks**\n",
    "\n",
    "### **1. Introducción**\n",
    "#### **Objetivo del Proyecto**\n",
    "Desarrollar un modelo de aprendizaje automático que prediga la calidad del vino blanco utilizando un dataset basado en características químicas y organolépticas, empleando el modelo de Random Forest en Databricks.\n",
    "\n",
    "#### **Herramientas y Entorno**\n",
    "- **Plataforma:** Databricks (Community Edition).\n",
    "- **Librerías Utilizadas:** PySpark (Spark MLlib).\n",
    "- **Dataset:** Dataset de vinos blancos, donde:\n",
    "  - Características: Variables continuas que describen propiedades químicas.\n",
    "  - Etiqueta: `quality` (calidad del vino, valores entre 3 y 9).\n",
    "\n",
    "---\n",
    "\n",
    "### **2. Análisis Exploratorio de Datos (EDA)**\n",
    "#### **Acciones Realizadas**\n",
    "1. **Carga del Dataset**:\n",
    "   - El dataset fue cargado en un DataFrame de Spark.\n",
    "2. **Exploración Inicial**:\n",
    "   - Verificación del esquema del dataset (tipos de datos y valores únicos en `quality`).\n",
    "3. **Distribución de Clases**:\n",
    "   - El dataset mostró un desbalance, con una mayor cantidad de muestras en la clase `6`.\n",
    "\n",
    "#### **Gráficos y Observaciones**\n",
    "1. **Distribución de la Variable `quality`**:\n",
    "   - Las clases `5`, `6`, y `7` dominan el dataset, lo que afecta el rendimiento de clasificación.\n",
    "2. **Correlación de Características**:\n",
    "   - Se identificaron correlaciones significativas entre `density` y otras características (`residual sugar` y `alcohol`).\n",
    "\n",
    "---\n",
    "\n",
    "### **3. Preprocesamiento**\n",
    "1. **Eliminación de Características Redundantes**:\n",
    "   - Basado en el análisis de correlación, se eliminó la columna `density` debido a su alta redundancia con `residual sugar`.\n",
    "2. **Selección de Características**:\n",
    "   - Se aplicó `ChiSqSelector` para seleccionar las 5 características más relevantes:\n",
    "     - `fixed acidity`, `volatile acidity`, `citric acid`, `residual sugar`, `chlorides`.\n",
    "\n",
    "---\n",
    "\n",
    "### **4. Entrenamiento y Evaluación del Modelo**\n",
    "#### **Modelos Probados**\n",
    "1. **Regresión Logística**:\n",
    "   - Resultados iniciales: Exactitud = 0.45, F1-Score = 0.28.\n",
    "   - Limitaciones: No pudo capturar relaciones no lineales entre las características.\n",
    "\n",
    "2. **Random Forest (Primera Iteración)**:\n",
    "   - Exactitud = 0.50, F1-Score = 0.43.\n",
    "   - Mejor manejo de relaciones no lineales y características seleccionadas.\n",
    "\n",
    "3. **Optimización de Hiperparámetros**:\n",
    "   - Hiperparámetros ajustados:\n",
    "     - `numTrees`: 60.\n",
    "     - `maxDepth`: 20.\n",
    "     - `featureSubsetStrategy`: `\"auto\"`.\n",
    "   - Validación Cruzada:\n",
    "     - Número de folds: 5.\n",
    "     - Mejor combinación encontrada: `numTrees=50`, `maxDepth=20`.\n",
    "   - Resultados finales:\n",
    "     - **Exactitud:** 0.64.\n",
    "     - **F1-Score:** 0.62.\n",
    "\n",
    "#### **Importancia de Características (Mejor Modelo)**\n",
    "| Característica     | Importancia |\n",
    "|--------------------|-------------|\n",
    "| `fixed acidity`    | 24.51%      |\n",
    "| `volatile acidity` | 18.27%      |\n",
    "| `citric acid`      | 16.46%      |\n",
    "| `residual sugar`   | 20.70%      |\n",
    "| `chlorides`        | 20.05%      |\n",
    "\n",
    "---\n",
    "\n",
    "### **5. Guardado del Modelo**\n",
    "#### **Pasos Realizados**\n",
    "1. **Guardado del Modelo**:\n",
    "   - El modelo se guardó en el sistema de archivos local de Databricks (`file:/tmp/random_forest_best_model`).\n",
    "\n",
    "2. **Cargado y Verificación del Modelo**:\n",
    "   - El modelo se cargó exitosamente y fue reutilizado para predicciones, validando su correcta funcionalidad.\n",
    "\n",
    "#### **Código para Guardar y Cargar**\n",
    "```python\n",
    "# Guardar el modelo\n",
    "best_model.write().overwrite().save(\"file:/tmp/random_forest_best_model\")\n",
    "\n",
    "# Cargar el modelo guardado\n",
    "loaded_model = RandomForestClassificationModel.load(\"file:/tmp/random_forest_best_model\")\n",
    "```\n",
    "\n",
    "---\n",
    "\n",
    "### **6. Conclusión**\n",
    "1. **Mejor Modelo**:\n",
    "   - El modelo de **Random Forest** fue seleccionado como el mejor modelo tras la validación cruzada.\n",
    "   - Métricas finales:\n",
    "     - **Exactitud:** 0.64.\n",
    "     - **F1-Score:** 0.62.\n",
    "\n",
    "2. **Contribuciones de Características**:\n",
    "   - `fixed acidity`, `residual sugar`, y `chlorides` fueron las variables más influyentes.\n",
    "\n",
    "3. **Lecciones Aprendidas**:\n",
    "   - La validación cruzada y la optimización de hiperparámetros son esenciales para mejorar el rendimiento en problemas con clases desbalanceadas.\n",
    "\n"
   ]
  }
 ],
 "metadata": {
  "application/vnd.databricks.v1+notebook": {
   "dashboards": [],
   "environmentMetadata": null,
   "language": "python",
   "notebookMetadata": {
    "pythonIndentUnit": 2
   },
   "notebookName": "notebook_wine_white",
   "widgets": {}
  }
 },
 "nbformat": 4,
 "nbformat_minor": 0
}
